{
 "cells": [
  {
   "cell_type": "markdown",
   "metadata": {},
   "source": [
    "# Conversion from deconvolved signal to origin\n",
    "### Author: Javier Gamero Muñoz"
   ]
  },
  {
   "cell_type": "markdown",
   "metadata": {},
   "source": [
    "# General libraries"
   ]
  },
  {
   "cell_type": "code",
   "execution_count": 1,
   "metadata": {},
   "outputs": [],
   "source": [
    "import os \n",
    "import sys \n",
    "\n",
    "# path to python main folder in this project\n",
    "libraries = os.path.abspath(os.path.join(os.getcwd(), os.pardir)) \n",
    "sys.path.append(libraries) \n",
    "\n",
    "import numpy as np \n",
    "import pandas as pd\n",
    "import matplotlib.pyplot as plt\n",
    "from time import time\n",
    "\n",
    "from decompose import quality"
   ]
  },
  {
   "cell_type": "markdown",
   "metadata": {},
   "source": [
    "# Load data"
   ]
  },
  {
   "cell_type": "code",
   "execution_count": 2,
   "metadata": {},
   "outputs": [
    {
     "data": {
      "text/plain": [
       "'/Users/javigamero/MyMac/DS_Master/TFM'"
      ]
     },
     "execution_count": 2,
     "metadata": {},
     "output_type": "execute_result"
    }
   ],
   "source": [
    "PATH = os.path.abspath(os.path.join(os.getcwd(), (os.pardir+'/')*3)) # main path\n",
    "PATH"
   ]
  },
  {
   "cell_type": "markdown",
   "metadata": {},
   "source": [
    "## Ideal data (origin)"
   ]
  },
  {
   "cell_type": "code",
   "execution_count": 3,
   "metadata": {},
   "outputs": [
    {
     "name": "stdout",
     "output_type": "stream",
     "text": [
      "(1000,)\n"
     ]
    }
   ],
   "source": [
    "t_path = os.path.join(PATH, 'data_preproc/LightSignal_t.csv')\n",
    "t_id = pd.read_csv(t_path, sep=';', header=None) # t[0] is nonsensen, remove it\n",
    "t_id.set_index(0, inplace=True)\n",
    "\n",
    "t_id = np.array(t_id).reshape(-1).astype(np.int32)\n",
    "print(t_id.shape)"
   ]
  },
  {
   "cell_type": "code",
   "execution_count": 4,
   "metadata": {},
   "outputs": [
    {
     "name": "stdout",
     "output_type": "stream",
     "text": [
      "Ideal signals df shape:  (9325, 1000)\n"
     ]
    }
   ],
   "source": [
    "id_path = os.path.join(PATH, 'data_preproc/LightSignal_total.csv')\n",
    "signals_id = pd.read_csv(id_path, sep=';', header=None)\n",
    "signals_id.set_index(0, inplace=True)\n",
    "print('Ideal signals df shape: ', signals_id.shape)"
   ]
  },
  {
   "cell_type": "markdown",
   "metadata": {},
   "source": [
    "## Deconvolved data"
   ]
  },
  {
   "cell_type": "code",
   "execution_count": 5,
   "metadata": {},
   "outputs": [
    {
     "data": {
      "text/plain": [
       "(5050,)"
      ]
     },
     "execution_count": 5,
     "metadata": {},
     "output_type": "execute_result"
    }
   ],
   "source": [
    "t_path = os.path.join(PATH, 'data_preproc/DeconvolvedSignal_t.csv')\n",
    "t_dec = pd.read_csv(t_path, sep=';', header=None) # t[0] is nonsensen, remove it\n",
    "t_dec.set_index(0, inplace=True)\n",
    "\n",
    "t_dec = np.array(t_dec).reshape(-1).astype(np.int32)\n",
    "t_dec.shape"
   ]
  },
  {
   "cell_type": "code",
   "execution_count": 6,
   "metadata": {},
   "outputs": [
    {
     "name": "stdout",
     "output_type": "stream",
     "text": [
      "Time spent reading dec signals:  4.3475987911224365\n",
      "Dec signals df shape:  (9325, 5050)\n"
     ]
    }
   ],
   "source": [
    "m0 = time()\n",
    "dec_path = os.path.join(PATH, 'data_preproc/DeconvolvedSignal2.csv') # right indexes\n",
    "signals_dec = pd.read_csv(dec_path, sep=',', header=0, index_col=0)\n",
    "\n",
    "print('Time spent reading dec signals: ', time()-m0)\n",
    "print('Dec signals df shape: ', signals_dec.shape)"
   ]
  },
  {
   "cell_type": "markdown",
   "metadata": {},
   "source": [
    "# Processing data"
   ]
  },
  {
   "cell_type": "code",
   "execution_count": 7,
   "metadata": {},
   "outputs": [],
   "source": [
    "def plotSignals(t, v, labels, xlabel='Time, t (ns)', ylabel='# photons', sep=False,\n",
    "                figsize=(5,5)): \n",
    "    if len(v)!=len(labels): \n",
    "        print('Wrong number of labels')\n",
    "        return\n",
    "    \n",
    "    # in separate plots\n",
    "    if sep: \n",
    "        fig, axs = plt.subplots(1,len(v), figsize=figsize)\n",
    "        for i in range(len(v)): \n",
    "            axs[i].plot(t, v[i], label=labels[i])\n",
    "            axs[i].set_xlabel(xlabel)\n",
    "            axs[i].set_ylabel(ylabel) \n",
    "            axs[i].legend(loc='best')\n",
    "            \n",
    "        plt.tight_layout()\n",
    "        plt.show()\n",
    "\n",
    "        return\n",
    "    \n",
    "    # all in one figure and plot\n",
    "    else: \n",
    "        plt.figure(figsize=figsize)\n",
    "        for i in range(len(v)): \n",
    "            plt.plot(t, v[i], label=labels[i], alpha=0.75)\n",
    "            \n",
    "        plt.xlabel(xlabel)\n",
    "        plt.ylabel(ylabel) \n",
    "        plt.legend(loc='best')\n",
    "        plt.show()\n",
    "        \n",
    "        return\n",
    "    \n",
    "# this function will plot the loss results of NN training. It should be used \n",
    "# to check if the NN is oferfitting \n",
    "def NN_trainPlot(history): \n",
    "    fig, ax = plt.subplots(1,1)\n",
    "\n",
    "    loss = history.history['loss']\n",
    "    val_loss = history.history['val_loss']\n",
    "    \n",
    "    ax.plot(loss, 'r.', label='Train')\n",
    "    ax.plot(val_loss, 'b-', label='Validation')\n",
    "    ax.set_xlabel('Epochs')\n",
    "    ax.set_ylabel('Loss')\n",
    "    ax.legend(loc='best')\n",
    "\n",
    "    plt.show()"
   ]
  },
  {
   "cell_type": "markdown",
   "metadata": {},
   "source": [
    "As it can easily be seen, the deconvolved data has more timesteps although \n",
    "it represent the same time series than the original.  \n",
    "This is why we will undersample all this time series. \n",
    "\n",
    "We create a function that calculates the average value of the time serie in a \n",
    "window of time `[t-timestep:t+timestep]` where timestep is defined as: \n",
    "$$\n",
    "timestep=t_i - t_{i+1}.\n",
    "$$\n",
    "Notice tha $t_j$ makes allusion to the moment $j$ of the ideal time serie."
   ]
  },
  {
   "cell_type": "code",
   "execution_count": 8,
   "metadata": {},
   "outputs": [],
   "source": [
    "def underSample_avg(t_little, t_big, signal): \n",
    "    \"\"\"\n",
    "    Function to undersampler data\n",
    "    Parameters: \n",
    "        - t_little: array with number timesteps to achieve\n",
    "        - t_big: actual array with timesteps of the signal\n",
    "        - signal: signal to be undersampled\n",
    "    \"\"\"\n",
    "    \n",
    "    signal = np.array(signal)\n",
    "    timestep = t_little[1]-t_little[0]\n",
    "    signal_us = []\n",
    "    \n",
    "    for idx in range(len(t_little)): \n",
    "        t = t_little[idx]\n",
    "        \n",
    "        # environment to calculate the average value\n",
    "        window = np.argwhere((t_big>=t-timestep) & \n",
    "                             (t_big<=t+timestep)).reshape(-1)\n",
    "        \n",
    "        signal_us.append(np.mean(signal[window]))\n",
    "        \n",
    "    return np.array(signal_us).reshape(-1)"
   ]
  },
  {
   "cell_type": "markdown",
   "metadata": {},
   "source": [
    "We test the function: "
   ]
  },
  {
   "cell_type": "code",
   "execution_count": 12,
   "metadata": {},
   "outputs": [
    {
     "data": {
      "text/plain": [
       "<matplotlib.legend.Legend at 0x291492210>"
      ]
     },
     "execution_count": 12,
     "metadata": {},
     "output_type": "execute_result"
    },
    {
     "data": {
      "image/png": "[encoded data removed]",
      "text/plain": [
       "<Figure size 800x500 with 2 Axes>"
      ]
     },
     "metadata": {},
     "output_type": "display_data"
    },
    {
     "data": {
      "image/png": "[encoded data removed]",
      "text/plain": [
       "<Figure size 800x500 with 2 Axes>"
      ]
     },
     "metadata": {},
     "output_type": "display_data"
    }
   ],
   "source": [
    "i=10\n",
    "signal_us = underSample_avg(t_id, t_dec, signals_dec.iloc[i,:])\n",
    "signal_us.shape\n",
    "\n",
    "plt.figure(figsize=(8,5))\n",
    "plt.subplot(121)\n",
    "plt.plot(t_dec, signals_dec.iloc[i,:], label='Deconvolved', c='b')\n",
    "plt.legend()\n",
    "plt.subplot(122)\n",
    "plt.plot(t_id, signal_us, label='Deconvolved Reduced', c='r')\n",
    "plt.legend()\n",
    "\n",
    "plt.figure(figsize=(8,5))\n",
    "plt.subplot(121)\n",
    "plt.plot(t_id, signals_id.iloc[i,:], label='Ideal', c='g')\n",
    "plt.legend()\n",
    "plt.subplot(122)\n",
    "plt.plot(t_id, signal_us, label='Deconvolved Reduced', c='r')\n",
    "plt.legend()\n"
   ]
  },
  {
   "cell_type": "markdown",
   "metadata": {},
   "source": [
    "Now we apply it to all the series that accomplish all the criterias.  \n",
    "Hence, we remove those time series that do not: "
   ]
  },
  {
   "cell_type": "code",
   "execution_count": null,
   "metadata": {},
   "outputs": [],
   "source": [
    "t0 = 150 #(ns), moment after we let the electron appear\n",
    "peak=5 # necessary min of n_photons of the peak of the electron time serie"
   ]
  }
 ],
 "metadata": {
  "kernelspec": {
   "display_name": "env",
   "language": "python",
   "name": "python3"
  },
  "language_info": {
   "codemirror_mode": {
    "name": "ipython",
    "version": 3
   },
   "file_extension": ".py",
   "mimetype": "text/x-python",
   "name": "python",
   "nbconvert_exporter": "python",
   "pygments_lexer": "ipython3",
   "version": "3.11.4"
  }
 },
 "nbformat": 4,
 "nbformat_minor": 2
}
