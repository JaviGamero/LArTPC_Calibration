{
 "cells": [
  {
   "cell_type": "code",
   "execution_count": 1,
   "metadata": {},
   "outputs": [
    {
     "name": "stdout",
     "output_type": "stream",
     "text": [
      "/Users/javigamero/MyMac/DS_Master/TFM\n"
     ]
    },
    {
     "data": {
      "text/plain": [
       "(11793, 1000)"
      ]
     },
     "execution_count": 1,
     "metadata": {},
     "output_type": "execute_result"
    }
   ],
   "source": [
    "import os \n",
    "\n",
    "import numpy as np \n",
    "import pandas as pd\n",
    "import matplotlib.pyplot as plt\n",
    "\n",
    "PATH = os.path.abspath(os.path.join(os.getcwd(), (os.pardir+'/')*3)) # main path\n",
    "print(PATH)\n",
    "\n",
    "e_signals = pd.read_csv(os.path.join(PATH, 'data_preproc/LightSignal_decomp_e.csv'), \n",
    "                        sep=';', header=0, index_col=0)\n",
    "\n",
    "idx = e_signals[e_signals.max(axis=1)>1].index\n",
    "e_signals = e_signals.loc[idx, :]\n",
    "\n",
    "mu_signals = pd.read_csv(os.path.join(PATH, 'data_preproc/LightSignal_decomp_mu.csv'),\n",
    "                         sep=';', header=0, index_col=0)\n",
    "mu_signals = mu_signals.loc[idx]\n",
    "\n",
    "idx2 = mu_signals[mu_signals.max(axis=1)>1].index\n",
    "\n",
    "e_signals = e_signals.loc[idx2, :]\n",
    "mu_signals = mu_signals.loc[idx2,:]\n",
    "mu_signals.shape"
   ]
  },
  {
   "cell_type": "code",
   "execution_count": 2,
   "metadata": {},
   "outputs": [
    {
     "data": {
      "text/plain": [
       "0_1       4.133522\n",
       "0_4       3.353058\n",
       "0_6       4.916706\n",
       "0_7       0.515752\n",
       "0_8       5.543825\n",
       "            ...   \n",
       "399_40    0.735527\n",
       "399_43    3.641703\n",
       "399_44    0.826438\n",
       "399_48    0.645755\n",
       "399_50    4.677286\n",
       "Length: 11793, dtype: float64"
      ]
     },
     "execution_count": 2,
     "metadata": {},
     "output_type": "execute_result"
    }
   ],
   "source": [
    "Arms_e = np.sqrt(e_signals.apply(lambda x: x**2).sum(axis=1)/1000)\n",
    "Arms_e"
   ]
  },
  {
   "cell_type": "code",
   "execution_count": 3,
   "metadata": {},
   "outputs": [],
   "source": [
    "Arms_mu = np.sqrt(mu_signals.apply(lambda x: x**2).sum(axis=1)/1000)"
   ]
  },
  {
   "cell_type": "code",
   "execution_count": 4,
   "metadata": {},
   "outputs": [
    {
     "data": {
      "text/html": [
       "<div>\n",
       "<style scoped>\n",
       "    .dataframe tbody tr th:only-of-type {\n",
       "        vertical-align: middle;\n",
       "    }\n",
       "\n",
       "    .dataframe tbody tr th {\n",
       "        vertical-align: top;\n",
       "    }\n",
       "\n",
       "    .dataframe thead th {\n",
       "        text-align: right;\n",
       "    }\n",
       "</style>\n",
       "<table border=\"1\" class=\"dataframe\">\n",
       "  <thead>\n",
       "    <tr style=\"text-align: right;\">\n",
       "      <th></th>\n",
       "      <th>e</th>\n",
       "      <th>mu</th>\n",
       "    </tr>\n",
       "  </thead>\n",
       "  <tbody>\n",
       "    <tr>\n",
       "      <th>0_1</th>\n",
       "      <td>4.133522</td>\n",
       "      <td>90.649584</td>\n",
       "    </tr>\n",
       "    <tr>\n",
       "      <th>0_4</th>\n",
       "      <td>3.353058</td>\n",
       "      <td>67.712104</td>\n",
       "    </tr>\n",
       "    <tr>\n",
       "      <th>0_6</th>\n",
       "      <td>4.916706</td>\n",
       "      <td>60.945049</td>\n",
       "    </tr>\n",
       "    <tr>\n",
       "      <th>0_7</th>\n",
       "      <td>0.515752</td>\n",
       "      <td>101.105272</td>\n",
       "    </tr>\n",
       "    <tr>\n",
       "      <th>0_8</th>\n",
       "      <td>5.543825</td>\n",
       "      <td>56.397722</td>\n",
       "    </tr>\n",
       "    <tr>\n",
       "      <th>...</th>\n",
       "      <td>...</td>\n",
       "      <td>...</td>\n",
       "    </tr>\n",
       "    <tr>\n",
       "      <th>399_40</th>\n",
       "      <td>0.735527</td>\n",
       "      <td>3.174114</td>\n",
       "    </tr>\n",
       "    <tr>\n",
       "      <th>399_43</th>\n",
       "      <td>3.641703</td>\n",
       "      <td>44.730057</td>\n",
       "    </tr>\n",
       "    <tr>\n",
       "      <th>399_44</th>\n",
       "      <td>0.826438</td>\n",
       "      <td>96.720975</td>\n",
       "    </tr>\n",
       "    <tr>\n",
       "      <th>399_48</th>\n",
       "      <td>0.645755</td>\n",
       "      <td>79.150420</td>\n",
       "    </tr>\n",
       "    <tr>\n",
       "      <th>399_50</th>\n",
       "      <td>4.677286</td>\n",
       "      <td>91.759795</td>\n",
       "    </tr>\n",
       "  </tbody>\n",
       "</table>\n",
       "<p>11793 rows × 2 columns</p>\n",
       "</div>"
      ],
      "text/plain": [
       "               e          mu\n",
       "0_1     4.133522   90.649584\n",
       "0_4     3.353058   67.712104\n",
       "0_6     4.916706   60.945049\n",
       "0_7     0.515752  101.105272\n",
       "0_8     5.543825   56.397722\n",
       "...          ...         ...\n",
       "399_40  0.735527    3.174114\n",
       "399_43  3.641703   44.730057\n",
       "399_44  0.826438   96.720975\n",
       "399_48  0.645755   79.150420\n",
       "399_50  4.677286   91.759795\n",
       "\n",
       "[11793 rows x 2 columns]"
      ]
     },
     "execution_count": 4,
     "metadata": {},
     "output_type": "execute_result"
    }
   ],
   "source": [
    "Arms = pd.DataFrame({'e': Arms_e, \n",
    "                     'mu': Arms_mu}, \n",
    "                     index=mu_signals.index\n",
    "                    )\n",
    "# Arms = Arms.fillna(0)\n",
    "Arms = Arms[Arms['e'] != 0]\n",
    "# Arms['mu'] = Arms['mu'].apply(lambda x: 0 if x==-np.inf else x)\n",
    "Arms"
   ]
  },
  {
   "cell_type": "code",
   "execution_count": 5,
   "metadata": {},
   "outputs": [
    {
     "name": "stdout",
     "output_type": "stream",
     "text": [
      "30.453561816675112\n"
     ]
    },
    {
     "data": {
      "text/plain": [
       "0_1       26.820912\n",
       "0_4       26.104504\n",
       "0_6       21.865283\n",
       "0_7       45.846660\n",
       "0_8       20.149040\n",
       "            ...    \n",
       "399_40    12.700478\n",
       "399_43    21.785899\n",
       "399_44    41.366206\n",
       "399_48    41.767704\n",
       "399_50    25.853171\n",
       "Length: 11793, dtype: float64"
      ]
     },
     "execution_count": 5,
     "metadata": {},
     "output_type": "execute_result"
    }
   ],
   "source": [
    "SNR = 20*np.log10(Arms['mu']/Arms['e'])\n",
    "SNR_mean = SNR[SNR!=-np.inf].mean()\n",
    "print(SNR_mean)\n",
    "SNR"
   ]
  },
  {
   "cell_type": "code",
   "execution_count": 6,
   "metadata": {},
   "outputs": [
    {
     "data": {
      "text/plain": [
       "6973"
      ]
     },
     "execution_count": 6,
     "metadata": {},
     "output_type": "execute_result"
    }
   ],
   "source": [
    "# index = Arms[Arms['e']>1].index\n",
    "index = SNR[SNR<SNR_mean].index\n",
    "len(index)"
   ]
  },
  {
   "cell_type": "code",
   "execution_count": 7,
   "metadata": {},
   "outputs": [],
   "source": [
    "e = e_signals.loc[index,:]\n",
    "mu = mu_signals.loc[index,:]"
   ]
  },
  {
   "cell_type": "code",
   "execution_count": 8,
   "metadata": {},
   "outputs": [
    {
     "name": "stdout",
     "output_type": "stream",
     "text": [
      "0_1\n"
     ]
    },
    {
     "data": {
      "image/png": "[encoded data removed]",
      "text/plain": [
       "<Figure size 640x480 with 1 Axes>"
      ]
     },
     "metadata": {},
     "output_type": "display_data"
    }
   ],
   "source": [
    "i = 0\n",
    "\n",
    "print(e.iloc[i,:].name)\n",
    "plt.figure()\n",
    "plt.plot(np.arange(1,10000,10), e.iloc[i,:], c='r')\n",
    "plt.plot(np.arange(1,10000,10), mu.iloc[i,:], c='b')\n",
    "\n",
    "plt.show()"
   ]
  },
  {
   "cell_type": "code",
   "execution_count": 17,
   "metadata": {},
   "outputs": [
    {
     "data": {
      "text/plain": [
       "Text(0, 0.5, 'Count')"
      ]
     },
     "execution_count": 17,
     "metadata": {},
     "output_type": "execute_result"
    },
    {
     "data": {
      "image/png": "[encoded data removed]",
      "text/plain": [
       "<Figure size 800x600 with 1 Axes>"
      ]
     },
     "metadata": {},
     "output_type": "display_data"
    }
   ],
   "source": [
    "plt.rcParams['font.size'] = str(16) \n",
    "plt.figure(figsize=(8,6))\n",
    "plt.hist(e.max(axis=1), range=(0,60), bins=60)\n",
    "plt.xlabel(r'Peak of the electron (#photons/$\\Delta t$)')\n",
    "plt.ylabel('Count')"
   ]
  },
  {
   "cell_type": "code",
   "execution_count": 10,
   "metadata": {},
   "outputs": [
    {
     "data": {
      "text/plain": [
       "0_1        74.0\n",
       "0_4        68.0\n",
       "0_6        90.0\n",
       "0_8       115.0\n",
       "0_9       164.0\n",
       "          ...  \n",
       "399_37     68.0\n",
       "399_38     69.0\n",
       "399_40     15.0\n",
       "399_43     80.0\n",
       "399_50     87.0\n",
       "Length: 6973, dtype: float64"
      ]
     },
     "execution_count": 10,
     "metadata": {},
     "output_type": "execute_result"
    }
   ],
   "source": [
    "e.max(axis=1)"
   ]
  }
 ],
 "metadata": {
  "kernelspec": {
   "display_name": "env",
   "language": "python",
   "name": "python3"
  },
  "language_info": {
   "codemirror_mode": {
    "name": "ipython",
    "version": 3
   },
   "file_extension": ".py",
   "mimetype": "text/x-python",
   "name": "python",
   "nbconvert_exporter": "python",
   "pygments_lexer": "ipython3",
   "version": "3.11.4"
  }
 },
 "nbformat": 4,
 "nbformat_minor": 2
}
