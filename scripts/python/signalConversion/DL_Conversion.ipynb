{
 "cells": [
  {
   "cell_type": "markdown",
   "metadata": {},
   "source": [
    "Conversion from deconvolved signal to origin  \n",
    "Author: Javier Gamero Muñoz"
   ]
  },
  {
   "cell_type": "markdown",
   "metadata": {},
   "source": [
    "# General libraries"
   ]
  },
  {
   "cell_type": "code",
   "execution_count": 1,
   "metadata": {},
   "outputs": [],
   "source": [
    "import os \n",
    "import sys \n",
    "\n",
    "# path to python main folder in this project\n",
    "libraries = os.path.abspath(os.path.join(os.getcwd(), os.pardir)) \n",
    "sys.path.append(libraries) \n",
    "\n",
    "import numpy as np \n",
    "import pandas as pd\n",
    "import matplotlib.pyplot as plt\n",
    "from time import time\n",
    "\n",
    "from decompose import quality"
   ]
  },
  {
   "cell_type": "markdown",
   "metadata": {},
   "source": [
    "# Load data"
   ]
  },
  {
   "cell_type": "code",
   "execution_count": 2,
   "metadata": {},
   "outputs": [
    {
     "data": {
      "text/plain": [
       "'/Users/javigamero/MyMac/DS_Master/TFM'"
      ]
     },
     "execution_count": 2,
     "metadata": {},
     "output_type": "execute_result"
    }
   ],
   "source": [
    "PATH = os.path.abspath(os.path.join(os.getcwd(), (os.pardir+'/')*3)) # main path\n",
    "PATH"
   ]
  },
  {
   "cell_type": "markdown",
   "metadata": {},
   "source": [
    "## Ideal data (origin)"
   ]
  },
  {
   "cell_type": "code",
   "execution_count": 3,
   "metadata": {},
   "outputs": [
    {
     "name": "stdout",
     "output_type": "stream",
     "text": [
      "(1000,)\n"
     ]
    }
   ],
   "source": [
    "t_path = os.path.join(PATH, 'data_preproc/LightSignal_t.csv')\n",
    "t_id = pd.read_csv(t_path, sep=';', header=None) # t[0] is nonsensen, remove it\n",
    "t_id.set_index(0, inplace=True)\n",
    "\n",
    "t_id = np.array(t_id).reshape(-1).astype(np.int32)\n",
    "print(t_id.shape)"
   ]
  },
  {
   "cell_type": "code",
   "execution_count": 4,
   "metadata": {},
   "outputs": [
    {
     "name": "stdout",
     "output_type": "stream",
     "text": [
      "Ideal signals df shape:  (9325, 1000)\n"
     ]
    }
   ],
   "source": [
    "id_path = os.path.join(PATH, 'data_preproc/LightSignal_total.csv')\n",
    "signals_id = pd.read_csv(id_path, sep=';', header=None)\n",
    "signals_id.set_index(0, inplace=True)\n",
    "print('Ideal signals df shape: ', signals_id.shape)"
   ]
  },
  {
   "cell_type": "markdown",
   "metadata": {},
   "source": [
    "## Deconvolved data reduced"
   ]
  },
  {
   "cell_type": "code",
   "execution_count": 5,
   "metadata": {},
   "outputs": [
    {
     "data": {
      "text/plain": [
       "(5050,)"
      ]
     },
     "execution_count": 5,
     "metadata": {},
     "output_type": "execute_result"
    }
   ],
   "source": [
    "t_path = os.path.join(PATH, 'data_preproc/DeconvolvedSignal_t.csv')\n",
    "t_dec = pd.read_csv(t_path, sep=';', header=None) # t[0] is nonsensen, remove it\n",
    "t_dec.set_index(0, inplace=True)\n",
    "\n",
    "t_dec = np.array(t_dec).reshape(-1).astype(np.int32)\n",
    "t_dec.shape"
   ]
  },
  {
   "cell_type": "code",
   "execution_count": 6,
   "metadata": {},
   "outputs": [
    {
     "name": "stdout",
     "output_type": "stream",
     "text": [
      "(9325, 1000)\n"
     ]
    },
    {
     "data": {
      "text/html": [
       "<div>\n",
       "<style scoped>\n",
       "    .dataframe tbody tr th:only-of-type {\n",
       "        vertical-align: middle;\n",
       "    }\n",
       "\n",
       "    .dataframe tbody tr th {\n",
       "        vertical-align: top;\n",
       "    }\n",
       "\n",
       "    .dataframe thead th {\n",
       "        text-align: right;\n",
       "    }\n",
       "</style>\n",
       "<table border=\"1\" class=\"dataframe\">\n",
       "  <thead>\n",
       "    <tr style=\"text-align: right;\">\n",
       "      <th></th>\n",
       "      <th>1</th>\n",
       "      <th>2</th>\n",
       "      <th>3</th>\n",
       "      <th>4</th>\n",
       "      <th>5</th>\n",
       "      <th>6</th>\n",
       "      <th>7</th>\n",
       "      <th>8</th>\n",
       "      <th>9</th>\n",
       "      <th>10</th>\n",
       "      <th>...</th>\n",
       "      <th>991</th>\n",
       "      <th>992</th>\n",
       "      <th>993</th>\n",
       "      <th>994</th>\n",
       "      <th>995</th>\n",
       "      <th>996</th>\n",
       "      <th>997</th>\n",
       "      <th>998</th>\n",
       "      <th>999</th>\n",
       "      <th>1000</th>\n",
       "    </tr>\n",
       "    <tr>\n",
       "      <th>0</th>\n",
       "      <th></th>\n",
       "      <th></th>\n",
       "      <th></th>\n",
       "      <th></th>\n",
       "      <th></th>\n",
       "      <th></th>\n",
       "      <th></th>\n",
       "      <th></th>\n",
       "      <th></th>\n",
       "      <th></th>\n",
       "      <th></th>\n",
       "      <th></th>\n",
       "      <th></th>\n",
       "      <th></th>\n",
       "      <th></th>\n",
       "      <th></th>\n",
       "      <th></th>\n",
       "      <th></th>\n",
       "      <th></th>\n",
       "      <th></th>\n",
       "      <th></th>\n",
       "    </tr>\n",
       "  </thead>\n",
       "  <tbody>\n",
       "    <tr>\n",
       "      <th>0_1</th>\n",
       "      <td>-0.013636</td>\n",
       "      <td>0.003455</td>\n",
       "      <td>5.652545</td>\n",
       "      <td>28.486182</td>\n",
       "      <td>44.607818</td>\n",
       "      <td>35.096364</td>\n",
       "      <td>21.015091</td>\n",
       "      <td>11.813455</td>\n",
       "      <td>7.580909</td>\n",
       "      <td>6.095455</td>\n",
       "      <td>...</td>\n",
       "      <td>-0.016545</td>\n",
       "      <td>-0.031273</td>\n",
       "      <td>-0.032909</td>\n",
       "      <td>-0.032000</td>\n",
       "      <td>-0.023455</td>\n",
       "      <td>-0.021091</td>\n",
       "      <td>-0.014000</td>\n",
       "      <td>-0.017818</td>\n",
       "      <td>-0.018545</td>\n",
       "      <td>-0.02250</td>\n",
       "    </tr>\n",
       "    <tr>\n",
       "      <th>0_4</th>\n",
       "      <td>0.000182</td>\n",
       "      <td>0.000727</td>\n",
       "      <td>1.786182</td>\n",
       "      <td>12.082909</td>\n",
       "      <td>23.939818</td>\n",
       "      <td>23.189455</td>\n",
       "      <td>14.626545</td>\n",
       "      <td>8.413455</td>\n",
       "      <td>5.297636</td>\n",
       "      <td>3.896545</td>\n",
       "      <td>...</td>\n",
       "      <td>0.001455</td>\n",
       "      <td>0.001273</td>\n",
       "      <td>0.002000</td>\n",
       "      <td>0.000182</td>\n",
       "      <td>-0.000909</td>\n",
       "      <td>-0.002182</td>\n",
       "      <td>-0.005818</td>\n",
       "      <td>-0.005273</td>\n",
       "      <td>-0.003818</td>\n",
       "      <td>-0.00250</td>\n",
       "    </tr>\n",
       "    <tr>\n",
       "      <th>0_6</th>\n",
       "      <td>0.004182</td>\n",
       "      <td>-0.002182</td>\n",
       "      <td>4.107455</td>\n",
       "      <td>18.174182</td>\n",
       "      <td>28.416909</td>\n",
       "      <td>23.247273</td>\n",
       "      <td>13.882909</td>\n",
       "      <td>7.938727</td>\n",
       "      <td>4.708000</td>\n",
       "      <td>3.035455</td>\n",
       "      <td>...</td>\n",
       "      <td>0.005455</td>\n",
       "      <td>0.005273</td>\n",
       "      <td>0.007091</td>\n",
       "      <td>0.008364</td>\n",
       "      <td>0.009091</td>\n",
       "      <td>0.010182</td>\n",
       "      <td>0.008909</td>\n",
       "      <td>0.006364</td>\n",
       "      <td>0.009455</td>\n",
       "      <td>0.00475</td>\n",
       "    </tr>\n",
       "    <tr>\n",
       "      <th>0_8</th>\n",
       "      <td>-0.008000</td>\n",
       "      <td>0.303091</td>\n",
       "      <td>5.657455</td>\n",
       "      <td>16.356182</td>\n",
       "      <td>20.395273</td>\n",
       "      <td>15.051636</td>\n",
       "      <td>8.831818</td>\n",
       "      <td>5.433091</td>\n",
       "      <td>3.595455</td>\n",
       "      <td>2.263455</td>\n",
       "      <td>...</td>\n",
       "      <td>-0.006182</td>\n",
       "      <td>-0.004909</td>\n",
       "      <td>-0.011818</td>\n",
       "      <td>-0.012000</td>\n",
       "      <td>-0.010727</td>\n",
       "      <td>-0.006727</td>\n",
       "      <td>-0.008727</td>\n",
       "      <td>-0.009818</td>\n",
       "      <td>-0.005818</td>\n",
       "      <td>-0.00800</td>\n",
       "    </tr>\n",
       "    <tr>\n",
       "      <th>0_9</th>\n",
       "      <td>0.007636</td>\n",
       "      <td>0.073455</td>\n",
       "      <td>3.116182</td>\n",
       "      <td>15.448909</td>\n",
       "      <td>23.388909</td>\n",
       "      <td>18.269273</td>\n",
       "      <td>11.052000</td>\n",
       "      <td>6.872364</td>\n",
       "      <td>4.603273</td>\n",
       "      <td>2.915636</td>\n",
       "      <td>...</td>\n",
       "      <td>0.000909</td>\n",
       "      <td>0.001091</td>\n",
       "      <td>0.001091</td>\n",
       "      <td>0.005091</td>\n",
       "      <td>0.006909</td>\n",
       "      <td>0.008727</td>\n",
       "      <td>0.006545</td>\n",
       "      <td>0.001273</td>\n",
       "      <td>0.006182</td>\n",
       "      <td>0.00525</td>\n",
       "    </tr>\n",
       "  </tbody>\n",
       "</table>\n",
       "<p>5 rows × 1000 columns</p>\n",
       "</div>"
      ],
      "text/plain": [
       "         1         2         3          4          5          6          7     \\\n",
       "0                                                                               \n",
       "0_1 -0.013636  0.003455  5.652545  28.486182  44.607818  35.096364  21.015091   \n",
       "0_4  0.000182  0.000727  1.786182  12.082909  23.939818  23.189455  14.626545   \n",
       "0_6  0.004182 -0.002182  4.107455  18.174182  28.416909  23.247273  13.882909   \n",
       "0_8 -0.008000  0.303091  5.657455  16.356182  20.395273  15.051636   8.831818   \n",
       "0_9  0.007636  0.073455  3.116182  15.448909  23.388909  18.269273  11.052000   \n",
       "\n",
       "          8         9         10    ...      991       992       993   \\\n",
       "0                                   ...                                 \n",
       "0_1  11.813455  7.580909  6.095455  ... -0.016545 -0.031273 -0.032909   \n",
       "0_4   8.413455  5.297636  3.896545  ...  0.001455  0.001273  0.002000   \n",
       "0_6   7.938727  4.708000  3.035455  ...  0.005455  0.005273  0.007091   \n",
       "0_8   5.433091  3.595455  2.263455  ... -0.006182 -0.004909 -0.011818   \n",
       "0_9   6.872364  4.603273  2.915636  ...  0.000909  0.001091  0.001091   \n",
       "\n",
       "         994       995       996       997       998       999      1000  \n",
       "0                                                                         \n",
       "0_1 -0.032000 -0.023455 -0.021091 -0.014000 -0.017818 -0.018545 -0.02250  \n",
       "0_4  0.000182 -0.000909 -0.002182 -0.005818 -0.005273 -0.003818 -0.00250  \n",
       "0_6  0.008364  0.009091  0.010182  0.008909  0.006364  0.009455  0.00475  \n",
       "0_8 -0.012000 -0.010727 -0.006727 -0.008727 -0.009818 -0.005818 -0.00800  \n",
       "0_9  0.005091  0.006909  0.008727  0.006545  0.001273  0.006182  0.00525  \n",
       "\n",
       "[5 rows x 1000 columns]"
      ]
     },
     "execution_count": 6,
     "metadata": {},
     "output_type": "execute_result"
    }
   ],
   "source": [
    "data_path = os.path.join(os.path.join(PATH, 'data_preproc'), 'DeconvolvedSignal_us.csv')\n",
    "signals_dec_us = pd.read_csv(data_path, sep=';', header=None, index_col=0)\n",
    "\n",
    "print(signals_dec_us.shape)\n",
    "signals_dec_us.head()"
   ]
  },
  {
   "cell_type": "code",
   "execution_count": 7,
   "metadata": {},
   "outputs": [],
   "source": [
    "def plotSignals(t, v, labels, xlabel='Time, t (ns)', ylabel='# photons', sep=False,\n",
    "                figsize=(5,5)): \n",
    "    if len(v)!=len(labels): \n",
    "        print('Wrong number of labels')\n",
    "        return\n",
    "    \n",
    "    # in separate plots\n",
    "    if sep: \n",
    "        fig, axs = plt.subplots(1,len(v), figsize=figsize)\n",
    "        for i in range(len(v)): \n",
    "            axs[i].plot(t, v[i], label=labels[i])\n",
    "            axs[i].set_xlabel(xlabel)\n",
    "            axs[i].set_ylabel(ylabel) \n",
    "            axs[i].legend(loc='best')\n",
    "            \n",
    "        plt.tight_layout()\n",
    "        plt.show()\n",
    "\n",
    "        return\n",
    "    \n",
    "    # all in one figure and plot\n",
    "    else: \n",
    "        plt.figure(figsize=figsize)\n",
    "        for i in range(len(v)): \n",
    "            plt.plot(t, v[i], label=labels[i], alpha=0.75)\n",
    "            \n",
    "        plt.xlabel(xlabel)\n",
    "        plt.ylabel(ylabel) \n",
    "        plt.legend(loc='best')\n",
    "        plt.show()\n",
    "        \n",
    "        return\n",
    "    \n",
    "# this function will plot the loss results of NN training. It should be used \n",
    "# to check if the NN is oferfitting \n",
    "def NN_trainPlot(history): \n",
    "    fig, ax = plt.subplots(1,1)\n",
    "\n",
    "    loss = history.history['loss']\n",
    "    val_loss = history.history['val_loss']\n",
    "    \n",
    "    ax.plot(loss, 'r.', label='Train')\n",
    "    ax.plot(val_loss, 'b-', label='Validation')\n",
    "    ax.set_xlabel('Epochs')\n",
    "    ax.set_ylabel('Loss')\n",
    "    ax.legend(loc='best')\n",
    "\n",
    "    plt.show()"
   ]
  },
  {
   "cell_type": "markdown",
   "metadata": {},
   "source": [
    "# Deep learning models"
   ]
  },
  {
   "cell_type": "markdown",
   "metadata": {},
   "source": [
    "## Models"
   ]
  }
 ],
 "metadata": {
  "kernelspec": {
   "display_name": "env",
   "language": "python",
   "name": "python3"
  },
  "language_info": {
   "codemirror_mode": {
    "name": "ipython",
    "version": 3
   },
   "file_extension": ".py",
   "mimetype": "text/x-python",
   "name": "python",
   "nbconvert_exporter": "python",
   "pygments_lexer": "ipython3",
   "version": "3.11.4"
  }
 },
 "nbformat": 4,
 "nbformat_minor": 2
}
