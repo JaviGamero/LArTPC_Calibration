{
 "cells": [
  {
   "cell_type": "code",
   "execution_count": 1,
   "metadata": {},
   "outputs": [],
   "source": [
    "import os \n",
    "import sys \n",
    "\n",
    "# path to python main folder in this project\n",
    "libraries = os.path.abspath(os.path.join(os.getcwd(), os.pardir)) \n",
    "sys.path.append(libraries) \n",
    "\n",
    "import numpy as np \n",
    "import pandas as pd\n",
    "import matplotlib.pyplot as plt\n",
    "import seaborn as sns\n",
    "from time import time\n",
    "\n",
    "from decompose import greedyDecomposition, calibration"
   ]
  },
  {
   "cell_type": "code",
   "execution_count": 2,
   "metadata": {},
   "outputs": [
    {
     "data": {
      "text/plain": [
       "'/Users/javigamero/MyMac/DS_Master/TFM'"
      ]
     },
     "execution_count": 2,
     "metadata": {},
     "output_type": "execute_result"
    }
   ],
   "source": [
    "PATH = os.path.abspath(os.path.join(os.getcwd(), (os.pardir+'/')*3)) # main path\n",
    "PATH"
   ]
  },
  {
   "cell_type": "code",
   "execution_count": 3,
   "metadata": {},
   "outputs": [
    {
     "name": "stdout",
     "output_type": "stream",
     "text": [
      "(1000,)\n"
     ]
    }
   ],
   "source": [
    "t_path = os.path.join(PATH, 'data_preproc/LightSignal_t.csv')\n",
    "t_id = pd.read_csv(t_path, sep=';', header=None) # t[0] is nonsensen, remove it\n",
    "t_id.set_index(0, inplace=True)\n",
    "\n",
    "t_id = np.array(t_id).reshape(-1).astype(np.int32)\n",
    "print(t_id.shape)"
   ]
  },
  {
   "cell_type": "markdown",
   "metadata": {},
   "source": [
    "# VIS"
   ]
  },
  {
   "cell_type": "code",
   "execution_count": 4,
   "metadata": {},
   "outputs": [
    {
     "data": {
      "text/plain": [
       "(950,)"
      ]
     },
     "execution_count": 4,
     "metadata": {},
     "output_type": "execute_result"
    }
   ],
   "source": [
    "t0 = 150 # (ns), moment to start considering the slow component, EXPERIMENTAL\n",
    "t_idx = np.where(t_id>t0)[0]\n",
    "t_idx.shape\n",
    "\n",
    "t1 = 500 # (ns), moment to start considering the slow component, EXPERIMENTAL\n",
    "t_idx1 = np.where(t_id>t1)[0]\n",
    "t_idx1.shape"
   ]
  },
  {
   "cell_type": "code",
   "execution_count": 5,
   "metadata": {},
   "outputs": [
    {
     "name": "stdout",
     "output_type": "stream",
     "text": [
      "Ideal signals df shape:  (20000, 1000)\n"
     ]
    }
   ],
   "source": [
    "id_path = os.path.join(PATH, 'data_preproc/LightSignal_VIS.csv')\n",
    "signals_id = pd.read_csv(id_path, header=0, index_col=0)\n",
    "\n",
    "signals_id=signals_id.iloc[:,:]\n",
    "print('Ideal signals df shape: ', signals_id.shape)"
   ]
  },
  {
   "cell_type": "code",
   "execution_count": 6,
   "metadata": {},
   "outputs": [
    {
     "data": {
      "text/html": [
       "<div>\n",
       "<style scoped>\n",
       "    .dataframe tbody tr th:only-of-type {\n",
       "        vertical-align: middle;\n",
       "    }\n",
       "\n",
       "    .dataframe tbody tr th {\n",
       "        vertical-align: top;\n",
       "    }\n",
       "\n",
       "    .dataframe thead th {\n",
       "        text-align: right;\n",
       "    }\n",
       "</style>\n",
       "<table border=\"1\" class=\"dataframe\">\n",
       "  <thead>\n",
       "    <tr style=\"text-align: right;\">\n",
       "      <th></th>\n",
       "      <th>0</th>\n",
       "      <th>1</th>\n",
       "      <th>2</th>\n",
       "      <th>3</th>\n",
       "      <th>4</th>\n",
       "      <th>5</th>\n",
       "      <th>6</th>\n",
       "      <th>7</th>\n",
       "      <th>8</th>\n",
       "      <th>9</th>\n",
       "      <th>...</th>\n",
       "      <th>990</th>\n",
       "      <th>991</th>\n",
       "      <th>992</th>\n",
       "      <th>993</th>\n",
       "      <th>994</th>\n",
       "      <th>995</th>\n",
       "      <th>996</th>\n",
       "      <th>997</th>\n",
       "      <th>998</th>\n",
       "      <th>999</th>\n",
       "    </tr>\n",
       "  </thead>\n",
       "  <tbody>\n",
       "    <tr>\n",
       "      <th>0_1</th>\n",
       "      <td>0</td>\n",
       "      <td>0</td>\n",
       "      <td>0</td>\n",
       "      <td>204</td>\n",
       "      <td>604</td>\n",
       "      <td>538</td>\n",
       "      <td>348</td>\n",
       "      <td>241</td>\n",
       "      <td>151</td>\n",
       "      <td>106</td>\n",
       "      <td>...</td>\n",
       "      <td>0</td>\n",
       "      <td>0</td>\n",
       "      <td>1</td>\n",
       "      <td>0</td>\n",
       "      <td>0</td>\n",
       "      <td>0</td>\n",
       "      <td>0</td>\n",
       "      <td>0</td>\n",
       "      <td>0</td>\n",
       "      <td>0</td>\n",
       "    </tr>\n",
       "    <tr>\n",
       "      <th>0_2</th>\n",
       "      <td>0</td>\n",
       "      <td>0</td>\n",
       "      <td>0</td>\n",
       "      <td>0</td>\n",
       "      <td>0</td>\n",
       "      <td>0</td>\n",
       "      <td>0</td>\n",
       "      <td>0</td>\n",
       "      <td>2</td>\n",
       "      <td>0</td>\n",
       "      <td>...</td>\n",
       "      <td>0</td>\n",
       "      <td>0</td>\n",
       "      <td>0</td>\n",
       "      <td>0</td>\n",
       "      <td>0</td>\n",
       "      <td>0</td>\n",
       "      <td>0</td>\n",
       "      <td>0</td>\n",
       "      <td>0</td>\n",
       "      <td>0</td>\n",
       "    </tr>\n",
       "    <tr>\n",
       "      <th>0_3</th>\n",
       "      <td>0</td>\n",
       "      <td>0</td>\n",
       "      <td>0</td>\n",
       "      <td>0</td>\n",
       "      <td>6</td>\n",
       "      <td>12</td>\n",
       "      <td>21</td>\n",
       "      <td>16</td>\n",
       "      <td>10</td>\n",
       "      <td>7</td>\n",
       "      <td>...</td>\n",
       "      <td>0</td>\n",
       "      <td>0</td>\n",
       "      <td>0</td>\n",
       "      <td>0</td>\n",
       "      <td>0</td>\n",
       "      <td>0</td>\n",
       "      <td>0</td>\n",
       "      <td>0</td>\n",
       "      <td>0</td>\n",
       "      <td>0</td>\n",
       "    </tr>\n",
       "    <tr>\n",
       "      <th>0_4</th>\n",
       "      <td>0</td>\n",
       "      <td>0</td>\n",
       "      <td>1</td>\n",
       "      <td>174</td>\n",
       "      <td>623</td>\n",
       "      <td>550</td>\n",
       "      <td>338</td>\n",
       "      <td>219</td>\n",
       "      <td>149</td>\n",
       "      <td>117</td>\n",
       "      <td>...</td>\n",
       "      <td>0</td>\n",
       "      <td>0</td>\n",
       "      <td>0</td>\n",
       "      <td>0</td>\n",
       "      <td>0</td>\n",
       "      <td>0</td>\n",
       "      <td>0</td>\n",
       "      <td>0</td>\n",
       "      <td>0</td>\n",
       "      <td>0</td>\n",
       "    </tr>\n",
       "    <tr>\n",
       "      <th>0_5</th>\n",
       "      <td>0</td>\n",
       "      <td>0</td>\n",
       "      <td>0</td>\n",
       "      <td>14</td>\n",
       "      <td>125</td>\n",
       "      <td>182</td>\n",
       "      <td>166</td>\n",
       "      <td>111</td>\n",
       "      <td>89</td>\n",
       "      <td>74</td>\n",
       "      <td>...</td>\n",
       "      <td>0</td>\n",
       "      <td>0</td>\n",
       "      <td>0</td>\n",
       "      <td>0</td>\n",
       "      <td>1</td>\n",
       "      <td>0</td>\n",
       "      <td>0</td>\n",
       "      <td>0</td>\n",
       "      <td>0</td>\n",
       "      <td>0</td>\n",
       "    </tr>\n",
       "  </tbody>\n",
       "</table>\n",
       "<p>5 rows × 1000 columns</p>\n",
       "</div>"
      ],
      "text/plain": [
       "     0  1  2    3    4    5    6    7    8    9  ...  990  991  992  993  994  \\\n",
       "0_1  0  0  0  204  604  538  348  241  151  106  ...    0    0    1    0    0   \n",
       "0_2  0  0  0    0    0    0    0    0    2    0  ...    0    0    0    0    0   \n",
       "0_3  0  0  0    0    6   12   21   16   10    7  ...    0    0    0    0    0   \n",
       "0_4  0  0  1  174  623  550  338  219  149  117  ...    0    0    0    0    0   \n",
       "0_5  0  0  0   14  125  182  166  111   89   74  ...    0    0    0    0    1   \n",
       "\n",
       "     995  996  997  998  999  \n",
       "0_1    0    0    0    0    0  \n",
       "0_2    0    0    0    0    0  \n",
       "0_3    0    0    0    0    0  \n",
       "0_4    0    0    0    0    0  \n",
       "0_5    0    0    0    0    0  \n",
       "\n",
       "[5 rows x 1000 columns]"
      ]
     },
     "execution_count": 6,
     "metadata": {},
     "output_type": "execute_result"
    }
   ],
   "source": [
    "signals_id.head()"
   ]
  },
  {
   "cell_type": "code",
   "execution_count": 7,
   "metadata": {},
   "outputs": [
    {
     "name": "stdout",
     "output_type": "stream",
     "text": [
      "(9325, 1000)\n"
     ]
    },
    {
     "data": {
      "text/html": [
       "<div>\n",
       "<style scoped>\n",
       "    .dataframe tbody tr th:only-of-type {\n",
       "        vertical-align: middle;\n",
       "    }\n",
       "\n",
       "    .dataframe tbody tr th {\n",
       "        vertical-align: top;\n",
       "    }\n",
       "\n",
       "    .dataframe thead th {\n",
       "        text-align: right;\n",
       "    }\n",
       "</style>\n",
       "<table border=\"1\" class=\"dataframe\">\n",
       "  <thead>\n",
       "    <tr style=\"text-align: right;\">\n",
       "      <th></th>\n",
       "      <th>1</th>\n",
       "      <th>2</th>\n",
       "      <th>3</th>\n",
       "      <th>4</th>\n",
       "      <th>5</th>\n",
       "      <th>6</th>\n",
       "      <th>7</th>\n",
       "      <th>8</th>\n",
       "      <th>9</th>\n",
       "      <th>10</th>\n",
       "      <th>...</th>\n",
       "      <th>991</th>\n",
       "      <th>992</th>\n",
       "      <th>993</th>\n",
       "      <th>994</th>\n",
       "      <th>995</th>\n",
       "      <th>996</th>\n",
       "      <th>997</th>\n",
       "      <th>998</th>\n",
       "      <th>999</th>\n",
       "      <th>1000</th>\n",
       "    </tr>\n",
       "    <tr>\n",
       "      <th>0</th>\n",
       "      <th></th>\n",
       "      <th></th>\n",
       "      <th></th>\n",
       "      <th></th>\n",
       "      <th></th>\n",
       "      <th></th>\n",
       "      <th></th>\n",
       "      <th></th>\n",
       "      <th></th>\n",
       "      <th></th>\n",
       "      <th></th>\n",
       "      <th></th>\n",
       "      <th></th>\n",
       "      <th></th>\n",
       "      <th></th>\n",
       "      <th></th>\n",
       "      <th></th>\n",
       "      <th></th>\n",
       "      <th></th>\n",
       "      <th></th>\n",
       "      <th></th>\n",
       "    </tr>\n",
       "  </thead>\n",
       "  <tbody>\n",
       "    <tr>\n",
       "      <th>0_1</th>\n",
       "      <td>-0.013636</td>\n",
       "      <td>0.003455</td>\n",
       "      <td>5.652545</td>\n",
       "      <td>28.486182</td>\n",
       "      <td>44.607818</td>\n",
       "      <td>35.096364</td>\n",
       "      <td>21.015091</td>\n",
       "      <td>11.813455</td>\n",
       "      <td>7.580909</td>\n",
       "      <td>6.095455</td>\n",
       "      <td>...</td>\n",
       "      <td>-0.016545</td>\n",
       "      <td>-0.031273</td>\n",
       "      <td>-0.032909</td>\n",
       "      <td>-0.032000</td>\n",
       "      <td>-0.023455</td>\n",
       "      <td>-0.021091</td>\n",
       "      <td>-0.014000</td>\n",
       "      <td>-0.017818</td>\n",
       "      <td>-0.018545</td>\n",
       "      <td>-0.02250</td>\n",
       "    </tr>\n",
       "    <tr>\n",
       "      <th>0_4</th>\n",
       "      <td>0.000182</td>\n",
       "      <td>0.000727</td>\n",
       "      <td>1.786182</td>\n",
       "      <td>12.082909</td>\n",
       "      <td>23.939818</td>\n",
       "      <td>23.189455</td>\n",
       "      <td>14.626545</td>\n",
       "      <td>8.413455</td>\n",
       "      <td>5.297636</td>\n",
       "      <td>3.896545</td>\n",
       "      <td>...</td>\n",
       "      <td>0.001455</td>\n",
       "      <td>0.001273</td>\n",
       "      <td>0.002000</td>\n",
       "      <td>0.000182</td>\n",
       "      <td>-0.000909</td>\n",
       "      <td>-0.002182</td>\n",
       "      <td>-0.005818</td>\n",
       "      <td>-0.005273</td>\n",
       "      <td>-0.003818</td>\n",
       "      <td>-0.00250</td>\n",
       "    </tr>\n",
       "    <tr>\n",
       "      <th>0_6</th>\n",
       "      <td>0.004182</td>\n",
       "      <td>-0.002182</td>\n",
       "      <td>4.107455</td>\n",
       "      <td>18.174182</td>\n",
       "      <td>28.416909</td>\n",
       "      <td>23.247273</td>\n",
       "      <td>13.882909</td>\n",
       "      <td>7.938727</td>\n",
       "      <td>4.708000</td>\n",
       "      <td>3.035455</td>\n",
       "      <td>...</td>\n",
       "      <td>0.005455</td>\n",
       "      <td>0.005273</td>\n",
       "      <td>0.007091</td>\n",
       "      <td>0.008364</td>\n",
       "      <td>0.009091</td>\n",
       "      <td>0.010182</td>\n",
       "      <td>0.008909</td>\n",
       "      <td>0.006364</td>\n",
       "      <td>0.009455</td>\n",
       "      <td>0.00475</td>\n",
       "    </tr>\n",
       "    <tr>\n",
       "      <th>0_8</th>\n",
       "      <td>-0.008000</td>\n",
       "      <td>0.303091</td>\n",
       "      <td>5.657455</td>\n",
       "      <td>16.356182</td>\n",
       "      <td>20.395273</td>\n",
       "      <td>15.051636</td>\n",
       "      <td>8.831818</td>\n",
       "      <td>5.433091</td>\n",
       "      <td>3.595455</td>\n",
       "      <td>2.263455</td>\n",
       "      <td>...</td>\n",
       "      <td>-0.006182</td>\n",
       "      <td>-0.004909</td>\n",
       "      <td>-0.011818</td>\n",
       "      <td>-0.012000</td>\n",
       "      <td>-0.010727</td>\n",
       "      <td>-0.006727</td>\n",
       "      <td>-0.008727</td>\n",
       "      <td>-0.009818</td>\n",
       "      <td>-0.005818</td>\n",
       "      <td>-0.00800</td>\n",
       "    </tr>\n",
       "    <tr>\n",
       "      <th>0_9</th>\n",
       "      <td>0.007636</td>\n",
       "      <td>0.073455</td>\n",
       "      <td>3.116182</td>\n",
       "      <td>15.448909</td>\n",
       "      <td>23.388909</td>\n",
       "      <td>18.269273</td>\n",
       "      <td>11.052000</td>\n",
       "      <td>6.872364</td>\n",
       "      <td>4.603273</td>\n",
       "      <td>2.915636</td>\n",
       "      <td>...</td>\n",
       "      <td>0.000909</td>\n",
       "      <td>0.001091</td>\n",
       "      <td>0.001091</td>\n",
       "      <td>0.005091</td>\n",
       "      <td>0.006909</td>\n",
       "      <td>0.008727</td>\n",
       "      <td>0.006545</td>\n",
       "      <td>0.001273</td>\n",
       "      <td>0.006182</td>\n",
       "      <td>0.00525</td>\n",
       "    </tr>\n",
       "  </tbody>\n",
       "</table>\n",
       "<p>5 rows × 1000 columns</p>\n",
       "</div>"
      ],
      "text/plain": [
       "         1         2         3          4          5          6          7     \\\n",
       "0                                                                               \n",
       "0_1 -0.013636  0.003455  5.652545  28.486182  44.607818  35.096364  21.015091   \n",
       "0_4  0.000182  0.000727  1.786182  12.082909  23.939818  23.189455  14.626545   \n",
       "0_6  0.004182 -0.002182  4.107455  18.174182  28.416909  23.247273  13.882909   \n",
       "0_8 -0.008000  0.303091  5.657455  16.356182  20.395273  15.051636   8.831818   \n",
       "0_9  0.007636  0.073455  3.116182  15.448909  23.388909  18.269273  11.052000   \n",
       "\n",
       "          8         9         10    ...      991       992       993   \\\n",
       "0                                   ...                                 \n",
       "0_1  11.813455  7.580909  6.095455  ... -0.016545 -0.031273 -0.032909   \n",
       "0_4   8.413455  5.297636  3.896545  ...  0.001455  0.001273  0.002000   \n",
       "0_6   7.938727  4.708000  3.035455  ...  0.005455  0.005273  0.007091   \n",
       "0_8   5.433091  3.595455  2.263455  ... -0.006182 -0.004909 -0.011818   \n",
       "0_9   6.872364  4.603273  2.915636  ...  0.000909  0.001091  0.001091   \n",
       "\n",
       "         994       995       996       997       998       999      1000  \n",
       "0                                                                         \n",
       "0_1 -0.032000 -0.023455 -0.021091 -0.014000 -0.017818 -0.018545 -0.02250  \n",
       "0_4  0.000182 -0.000909 -0.002182 -0.005818 -0.005273 -0.003818 -0.00250  \n",
       "0_6  0.008364  0.009091  0.010182  0.008909  0.006364  0.009455  0.00475  \n",
       "0_8 -0.012000 -0.010727 -0.006727 -0.008727 -0.009818 -0.005818 -0.00800  \n",
       "0_9  0.005091  0.006909  0.008727  0.006545  0.001273  0.006182  0.00525  \n",
       "\n",
       "[5 rows x 1000 columns]"
      ]
     },
     "execution_count": 7,
     "metadata": {},
     "output_type": "execute_result"
    }
   ],
   "source": [
    "data_path = os.path.join(os.path.join(PATH, 'data_preproc'), 'DeconvolvedSignal_us.csv')\n",
    "signals_dec_us = pd.read_csv(data_path, sep=';', header=None, index_col=0)\n",
    "\n",
    "print(signals_dec_us.shape)\n",
    "signals_dec_us.head()"
   ]
  },
  {
   "cell_type": "code",
   "execution_count": 8,
   "metadata": {},
   "outputs": [
    {
     "data": {
      "text/plain": [
       "(9325, 1000)"
      ]
     },
     "execution_count": 8,
     "metadata": {},
     "output_type": "execute_result"
    }
   ],
   "source": [
    "signals_id=signals_id.loc[signals_dec_us.index,:]\n",
    "signals_id.shape"
   ]
  },
  {
   "cell_type": "code",
   "execution_count": 9,
   "metadata": {},
   "outputs": [],
   "source": [
    "dE_path = os.path.join(PATH, 'data_preproc/dE.csv')\n",
    "dE = pd.read_csv(dE_path, sep=';', header=0, index_col=0)\n",
    "dE = dE.loc[signals_id.index]"
   ]
  },
  {
   "cell_type": "code",
   "execution_count": 10,
   "metadata": {},
   "outputs": [
    {
     "data": {
      "text/html": [
       "<div>\n",
       "<style scoped>\n",
       "    .dataframe tbody tr th:only-of-type {\n",
       "        vertical-align: middle;\n",
       "    }\n",
       "\n",
       "    .dataframe tbody tr th {\n",
       "        vertical-align: top;\n",
       "    }\n",
       "\n",
       "    .dataframe thead th {\n",
       "        text-align: right;\n",
       "    }\n",
       "</style>\n",
       "<table border=\"1\" class=\"dataframe\">\n",
       "  <thead>\n",
       "    <tr style=\"text-align: right;\">\n",
       "      <th></th>\n",
       "      <th>dE</th>\n",
       "    </tr>\n",
       "    <tr>\n",
       "      <th>0</th>\n",
       "      <th></th>\n",
       "    </tr>\n",
       "  </thead>\n",
       "  <tbody>\n",
       "    <tr>\n",
       "      <th>0_1</th>\n",
       "      <td>48.297063</td>\n",
       "    </tr>\n",
       "    <tr>\n",
       "      <th>0_4</th>\n",
       "      <td>39.765737</td>\n",
       "    </tr>\n",
       "    <tr>\n",
       "      <th>0_6</th>\n",
       "      <td>43.809366</td>\n",
       "    </tr>\n",
       "    <tr>\n",
       "      <th>0_8</th>\n",
       "      <td>50.682234</td>\n",
       "    </tr>\n",
       "    <tr>\n",
       "      <th>0_9</th>\n",
       "      <td>52.356169</td>\n",
       "    </tr>\n",
       "  </tbody>\n",
       "</table>\n",
       "</div>"
      ],
      "text/plain": [
       "            dE\n",
       "0             \n",
       "0_1  48.297063\n",
       "0_4  39.765737\n",
       "0_6  43.809366\n",
       "0_8  50.682234\n",
       "0_9  52.356169"
      ]
     },
     "execution_count": 10,
     "metadata": {},
     "output_type": "execute_result"
    }
   ],
   "source": [
    "dE.head()"
   ]
  },
  {
   "cell_type": "code",
   "execution_count": 11,
   "metadata": {},
   "outputs": [
    {
     "name": "stdout",
     "output_type": "stream",
     "text": [
      "Calibration factor distribution returned\n"
     ]
    },
    {
     "name": "stderr",
     "output_type": "stream",
     "text": [
      "/Users/javigamero/MyMac/DS_Master/TFM/scripts/python/decompose.py:279: RuntimeWarning: divide by zero encountered in divide\n",
      "  self.C_distribution = r_dec/r_id # calibration factor\n"
     ]
    },
    {
     "data": {
      "image/png": "[encoded data removed]",
      "text/plain": [
       "<Figure size 640x480 with 1 Axes>"
      ]
     },
     "metadata": {},
     "output_type": "display_data"
    }
   ],
   "source": [
    "cal = calibration(signal_dec=signals_dec_us, \n",
    "                  signal_id=signals_id,\n",
    "                  t=t_id)\n",
    "\n",
    "C = cal._calculate_CalibrationFactor(return_dist=True)\n",
    "# C = C[C<0.2]\n",
    "# C = 1/C\n",
    "data = pd.DataFrame({'Calibration Factor': C})\n",
    "\n",
    "# sns.histplot(data=data)\n",
    "plt.hist(C, range=[0,0.1], bins=150)\n",
    "plt.xlim(-0.01,0.075)\n",
    "# plt.xlim(0,100)\n",
    "plt.xlabel('Conversion factor (C)')\n",
    "plt.title('VIS ligth')\n",
    "plt.show()"
   ]
  },
  {
   "cell_type": "code",
   "execution_count": 12,
   "metadata": {},
   "outputs": [
    {
     "name": "stdout",
     "output_type": "stream",
     "text": [
      "Calibration factor returned\n",
      "Final Conversion factor, C:  0.022000000000000002\n"
     ]
    }
   ],
   "source": [
    "cal = calibration(signal_dec=signals_dec_us, \n",
    "                  signal_id=signals_id,\n",
    "                  t=t_id)\n",
    "\n",
    "C = cal._calculate_CalibrationFactor(return_C=True)\n",
    "# C = C[C<0.2]\n",
    "# C = 1/C\n",
    "print('Final Conversion factor, C: ', C)"
   ]
  },
  {
   "cell_type": "markdown",
   "metadata": {},
   "source": [
    "# VUV"
   ]
  },
  {
   "cell_type": "code",
   "execution_count": 13,
   "metadata": {},
   "outputs": [
    {
     "name": "stdout",
     "output_type": "stream",
     "text": [
      "Ideal signals df shape:  (9325, 1000)\n"
     ]
    }
   ],
   "source": [
    "id_path = os.path.join(PATH, 'data_preproc/LightSignal_VUV.csv')\n",
    "signals_id_VUV = pd.read_csv(id_path, header=0, index_col=0)\n",
    "\n",
    "signals_id=signals_id.loc[signals_dec_us.index,:]\n",
    "print('Ideal signals df shape: ', signals_id.shape)"
   ]
  },
  {
   "cell_type": "code",
   "execution_count": 14,
   "metadata": {},
   "outputs": [
    {
     "name": "stdout",
     "output_type": "stream",
     "text": [
      "Calibration factor distribution returned\n"
     ]
    },
    {
     "name": "stderr",
     "output_type": "stream",
     "text": [
      "/Users/javigamero/MyMac/DS_Master/TFM/scripts/python/decompose.py:279: RuntimeWarning: divide by zero encountered in divide\n",
      "  self.C_distribution = r_dec/r_id # calibration factor\n"
     ]
    },
    {
     "data": {
      "image/png": "[encoded data removed]",
      "text/plain": [
       "<Figure size 640x480 with 1 Axes>"
      ]
     },
     "metadata": {},
     "output_type": "display_data"
    }
   ],
   "source": [
    "cal = calibration(signal_dec=signals_dec_us, \n",
    "                  signal_id=signals_id_VUV,\n",
    "                  t=t_id)\n",
    "\n",
    "C = cal._calculate_CalibrationFactor(return_dist=True)\n",
    "# C = C[C<0.2]\n",
    "# C = 1/C\n",
    "data = pd.DataFrame({'Calibration Factor': C})\n",
    "\n",
    "plt.hist(C, range=[0,0.2], bins=150)\n",
    "# plt.xlim(-0.01,0.1)\n",
    "# plt.xlim(0,100)\n",
    "plt.xlabel('Conversion factor (C)')\n",
    "plt.title('VUV ligth')\n",
    "plt.show()"
   ]
  },
  {
   "cell_type": "markdown",
   "metadata": {},
   "source": [
    "# VIS + VUV"
   ]
  },
  {
   "cell_type": "code",
   "execution_count": 15,
   "metadata": {},
   "outputs": [],
   "source": [
    "signals_id = signals_id+signals_id_VUV"
   ]
  },
  {
   "cell_type": "code",
   "execution_count": 16,
   "metadata": {},
   "outputs": [
    {
     "name": "stdout",
     "output_type": "stream",
     "text": [
      "Calibration factor distribution returned\n"
     ]
    },
    {
     "data": {
      "image/png": "[encoded data removed]",
      "text/plain": [
       "<Figure size 640x480 with 1 Axes>"
      ]
     },
     "metadata": {},
     "output_type": "display_data"
    }
   ],
   "source": [
    "cal = calibration(signal_dec=signals_dec_us, \n",
    "                  signal_id=signals_id,\n",
    "                  t=t_id)\n",
    "\n",
    "C = cal._calculate_CalibrationFactor(return_dist=True)\n",
    "# C = C[C<0.2]\n",
    "# C = 1/C\n",
    "data = pd.DataFrame({'Conversion Factor': C})\n",
    "\n",
    "# sns.histplot(data=data)\n",
    "plt.hist(C, range=[0,0.1], bins=150)\n",
    "plt.xlim(-0.01,0.075)\n",
    "# plt.xlim(0,100)\n",
    "plt.xlabel('Calibration factor (C)')\n",
    "plt.title('VIS+VUV ligth')\n",
    "plt.show()"
   ]
  },
  {
   "cell_type": "code",
   "execution_count": 17,
   "metadata": {},
   "outputs": [
    {
     "name": "stdout",
     "output_type": "stream",
     "text": [
      "Calibration factor returned\n",
      "Final calibration factor, C:  0.01666666666666667\n"
     ]
    }
   ],
   "source": [
    "cal = calibration(signal_dec=signals_dec_us, \n",
    "                  signal_id=signals_id,\n",
    "                  t=t_id)\n",
    "\n",
    "C = cal._calculate_CalibrationFactor(return_C=True)\n",
    "# C = C[C<0.2]\n",
    "# C = 1/C\n",
    "print('Final calibration factor, C: ', C)"
   ]
  }
 ],
 "metadata": {
  "kernelspec": {
   "display_name": "env",
   "language": "python",
   "name": "python3"
  },
  "language_info": {
   "codemirror_mode": {
    "name": "ipython",
    "version": 3
   },
   "file_extension": ".py",
   "mimetype": "text/x-python",
   "name": "python",
   "nbconvert_exporter": "python",
   "pygments_lexer": "ipython3",
   "version": "3.11.4"
  }
 },
 "nbformat": 4,
 "nbformat_minor": 2
}
